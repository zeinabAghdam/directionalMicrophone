{
 "cells": [
  {
   "cell_type": "code",
   "execution_count": 1,
   "metadata": {},
   "outputs": [],
   "source": [
    "# applying autoencoders for reducing the dimension"
   ]
  },
  {
   "cell_type": "code",
   "execution_count": 1,
   "metadata": {},
   "outputs": [],
   "source": [
    "import os\n",
    "os.environ[\"CUDA_VISIBLE_DEVICES\"] = '0'"
   ]
  },
  {
   "cell_type": "code",
   "execution_count": null,
   "metadata": {},
   "outputs": [],
   "source": []
  },
  {
   "cell_type": "code",
   "execution_count": 1,
   "metadata": {},
   "outputs": [],
   "source": [
    "import torch\n",
    "import torch.nn as nn\n",
    "import torch.cuda as cuda\n",
    "import matplotlib.pyplot as plt\n",
    "\n",
    "import numpy as np\n",
    "import pandas as pd\n",
    "import pdb\n",
    "import pickle \n",
    "from torch.autograd import Variable\n",
    "from torchvision import transforms\n",
    "from torch.utils.data import DataLoader,Dataset\n",
    "from os import listdir\n",
    "from os.path import isfile, join\n",
    "\n",
    "import random\n",
    "\n",
    "import torch.nn.functional as F\n",
    "\n",
    "import pandas as pd \n",
    "import scipy.io as sio\n",
    "import csv\n",
    "from dplf import *\n",
    "from sklearn.model_selection import train_test_split"
   ]
  },
  {
   "cell_type": "markdown",
   "metadata": {},
   "source": [
    "# Configuration"
   ]
  },
  {
   "cell_type": "code",
   "execution_count": 20,
   "metadata": {},
   "outputs": [],
   "source": [
    "numSubjects = 17\n",
    "\n",
    "dataDir = \"/home/erl.local/zeinab.schaefer/working_dir/zeinab_files/DMfiles/\"\n",
    "npyDataDir = \"/home/erl.local/zeinab.schaefer/working_dir/zeinab_files/dataDM/\"\n",
    "#compressedDtPath = \"/home/erl.local/zeinab.schaefer/codes/dataCompressed/\"\n",
    "modelPath = '/home/erl.local/zeinab.schaefer/working_dir/zeinab_files/autoencoder.pth'\n",
    "\n",
    "bs = 32\n",
    "ws = 256\n",
    "lr = 0.0001"
   ]
  },
  {
   "cell_type": "markdown",
   "metadata": {},
   "source": [
    "# Datasets"
   ]
  },
  {
   "cell_type": "code",
   "execution_count": 21,
   "metadata": {},
   "outputs": [],
   "source": [
    "class DirectionalMicrophoneDataset(Dataset):\n",
    "    def __init__(self, path, samples):\n",
    "        # path: the path to the npy files \n",
    "        # subjects: the list of the subjects to be loaded    \n",
    "        self.path = path \n",
    "        self.samples = samples\n",
    "\n",
    "    def __len__(self):\n",
    "        return len(self.samples)\n",
    "\n",
    "    def __getitem__(self, indx):\n",
    "        itempath = self.path + self.samples[indx]['fname'] +'.npy'\n",
    "        signal = np.load(itempath).T # loads the data \n",
    "        signal = signal[:,::5]\n",
    "        signal_label = self.samples[indx]['label'] # the corresponding label \n",
    "        return {'signal': signal, 'label': signal_label}"
   ]
  },
  {
   "cell_type": "code",
   "execution_count": 22,
   "metadata": {},
   "outputs": [],
   "source": [
    "class RandomWindow(object):\n",
    "    def __init__(self, window_size):\n",
    "        self.window_size = window_size\n",
    "        \n",
    "    def __call__(self, sample):\n",
    "        signal, label = sample['signal'], sample['label']\n",
    "        # generate a random interval \n",
    "        random_index = np.random.randint(signal.shape[1] - self.window_size)\n",
    "        dt = signal[:,random_index:random_index+self.window_size]\n",
    "        return {'signal': dt, 'label': label}"
   ]
  },
  {
   "cell_type": "code",
   "execution_count": 23,
   "metadata": {},
   "outputs": [],
   "source": [
    "class ToTensor(object):\n",
    "    def __call__(self, sample):\n",
    "        signal, label = sample['signal'], sample['label']\n",
    "        dt = torch.from_numpy(signal)\n",
    "        return {'signal': dt, 'label': label}"
   ]
  },
  {
   "cell_type": "code",
   "execution_count": 24,
   "metadata": {},
   "outputs": [],
   "source": [
    "class TransformedDataset(Dataset):\n",
    "    def __init__(self, dataset, *transforms):\n",
    "        self.dataset = dataset\n",
    "        self.transforms = transforms\n",
    "    \n",
    "    def __len__(self):\n",
    "        return len(self.dataset)\n",
    "    \n",
    "    def __getitem__(self, idx):\n",
    "        sample = self.dataset[idx]\n",
    "        for transform in self.transforms:\n",
    "            sample = transform(sample)\n",
    "        return sample"
   ]
  },
  {
   "cell_type": "code",
   "execution_count": 25,
   "metadata": {},
   "outputs": [],
   "source": [
    "def sample_for(subject, spk, trial, label):\n",
    "    fname = 'FARAH_'+'sub0%0.2d'%subject+'_LS'+str(spk)+'_'+str(trial)\n",
    "    return {'fname': fname, 'label': label }\n",
    "\n",
    "def create_subj_samples():\n",
    "    val_id = random.randint(1, 18)\n",
    "    train_samples = []\n",
    "    valid_samples = []\n",
    "    for subject in range(1,18):\n",
    "        for spk in [1, 4]:\n",
    "            if spk == 1:\n",
    "                label = 0 # Right    \n",
    "            else:\n",
    "                label = 1 # Left\n",
    "            if subject == val_id:\n",
    "                for trial in range(1,3):\n",
    "                    valid_samples.append(sample_for(subject,spk,trial,label))\n",
    "                #all_trials = range(1, 3) # range(1,5)\n",
    "                #train_trials = random.sample(all_trials, 1)\n",
    "                #valid_trials = np.setdiff1d(all_trials, train_trials)\n",
    "                # list of validation names accordingly\n",
    "                #for trial in valid_trials:\n",
    "                #    valid_samples.append(sample_for(subject, spk, trial, label))\n",
    "                #for trial in train_trials:\n",
    "                #    train_samples.append(sample_for(subject, spk, trial, label))\n",
    "            else:\n",
    "                for trial in range(1,3):\n",
    "                    train_samples.append(sample_for(subject, spk, trial, label))\n",
    "    return (train_samples, valid_samples)"
   ]
  },
  {
   "cell_type": "code",
   "execution_count": 26,
   "metadata": {},
   "outputs": [],
   "source": [
    "def dataset_for(samples):\n",
    "    dmd = DirectionalMicrophoneDataset(npyDataDir, samples)\n",
    "    return TransformedDataset(dmd, RandomWindow(ws), ToTensor())"
   ]
  },
  {
   "cell_type": "code",
   "execution_count": 27,
   "metadata": {},
   "outputs": [],
   "source": [
    "# Training and validation datasets\n",
    "train_samples, valid_samples = create_subj_samples()\n",
    "train_ds = dataset_for(train_samples)\n",
    "valid_ds = dataset_for(valid_samples)\n",
    "\n",
    "# Training and validation dataloaders\n",
    "train_dl = DataLoader(train_ds, batch_size=bs, shuffle=True)\n",
    "valid_dl = DataLoader(valid_ds, batch_size=bs)"
   ]
  },
  {
   "cell_type": "code",
   "execution_count": 28,
   "metadata": {},
   "outputs": [
    {
     "data": {
      "text/plain": [
       "torch.Size([127, 256])"
      ]
     },
     "execution_count": 28,
     "metadata": {},
     "output_type": "execute_result"
    }
   ],
   "source": [
    "train_ds[16]['signal'].shape"
   ]
  },
  {
   "cell_type": "markdown",
   "metadata": {},
   "source": [
    "# Model"
   ]
  },
  {
   "cell_type": "code",
   "execution_count": 29,
   "metadata": {},
   "outputs": [],
   "source": [
    "class Autoencoder(nn.Module):\n",
    "    def __init__(self):\n",
    "        super(Autoencoder, self).__init__()\n",
    "        \n",
    "        self.encoder = nn.Sequential(\n",
    "            nn.Conv1d(127, 64, kernel_size= 9),\n",
    "            nn.ReLU(True), \n",
    "            nn.Conv1d(64, 34, kernel_size= 9), \n",
    "            nn.ReLU(True), \n",
    "            nn.Conv1d(34, 18, kernel_size= 9), \n",
    "            nn.ReLU(True), \n",
    "            nn.Conv1d(18, 8, kernel_size= 9), \n",
    "            nn.ReLU(True))\n",
    "        \n",
    "        self.decoder = nn.Sequential(\n",
    "            nn.ConvTranspose1d(8, 18, kernel_size=9), \n",
    "            nn.ReLU(True), \n",
    "            nn.ConvTranspose1d(18 ,34 ,kernel_size=9), \n",
    "            nn.ReLU(True),\n",
    "            nn.ConvTranspose1d(34, 64, kernel_size=9), \n",
    "            nn.ReLU(True), \n",
    "            nn.ConvTranspose1d(64, 127, kernel_size=9))\n",
    "    \n",
    "    def forward(self, x):\n",
    "        x = self.encoder(x)\n",
    "        y = self.decoder(x)\n",
    "        return y, x\n",
    "    "
   ]
  },
  {
   "cell_type": "code",
   "execution_count": 30,
   "metadata": {},
   "outputs": [],
   "source": [
    "class Flatten(nn.Module):\n",
    "    def forward(self, input):\n",
    "        return input.view(input.size(0), -1)"
   ]
  },
  {
   "cell_type": "code",
   "execution_count": 31,
   "metadata": {},
   "outputs": [],
   "source": [
    "class FCNet(nn.Module):\n",
    "    def __init__(self, channels, T):\n",
    "        super().__init__()\n",
    "        self.conv = nn.Conv1d(channels, channels, kernel_size=9, stride=4, bias=False)\n",
    "        self.bn = nn.BatchNorm1d(channels)\n",
    "        self.flatten = Flatten()\n",
    "        size = channels * (T - 8) // 4\n",
    "        self.fc1 = nn.Linear(size, size//2)\n",
    "        self.relu = nn.ReLU(inplace=True)\n",
    "        self.fc2 = nn.Linear(size//2, 2)\n",
    "    \n",
    "    def forward(self, x):\n",
    "        y = self.bn(self.conv(x))\n",
    "        return self.fc2(self.relu(self.fc1(self.flatten(y))))"
   ]
  },
  {
   "cell_type": "markdown",
   "metadata": {},
   "source": [
    "# Training the Autoencoder"
   ]
  },
  {
   "cell_type": "code",
   "execution_count": 32,
   "metadata": {},
   "outputs": [],
   "source": [
    "autoencoder = Autoencoder().cuda()\n",
    "parameters = list(autoencoder.parameters())\n",
    "loss_func = nn.MSELoss()"
   ]
  },
  {
   "cell_type": "code",
   "execution_count": 33,
   "metadata": {},
   "outputs": [],
   "source": [
    "optimizer = torch.optim.Adam(parameters, lr=lr)"
   ]
  },
  {
   "cell_type": "code",
   "execution_count": null,
   "metadata": {},
   "outputs": [
    {
     "name": "stdout",
     "output_type": "stream",
     "text": [
      "epoch [1/3000], loss:6.8006\n",
      "epoch [2/3000], loss:8.2300\n",
      "epoch [3/3000], loss:7.9075\n",
      "epoch [4/3000], loss:7.6809\n",
      "epoch [5/3000], loss:8.1253\n",
      "epoch [6/3000], loss:7.2856\n",
      "epoch [7/3000], loss:5.6373\n",
      "epoch [8/3000], loss:12.8474\n",
      "epoch [9/3000], loss:9.1772\n",
      "epoch [10/3000], loss:6.4366\n",
      "epoch [11/3000], loss:6.4329\n",
      "epoch [12/3000], loss:8.3539\n",
      "epoch [13/3000], loss:7.0113\n",
      "epoch [14/3000], loss:6.7591\n",
      "epoch [15/3000], loss:6.4587\n",
      "epoch [16/3000], loss:9.4906\n",
      "epoch [17/3000], loss:5.9364\n",
      "epoch [18/3000], loss:8.8904\n",
      "epoch [19/3000], loss:7.6954\n",
      "epoch [20/3000], loss:9.6652\n",
      "epoch [21/3000], loss:5.4201\n",
      "epoch [22/3000], loss:12.8575\n",
      "epoch [23/3000], loss:5.6521\n",
      "epoch [24/3000], loss:6.5456\n",
      "epoch [25/3000], loss:4.7805\n",
      "epoch [26/3000], loss:6.3477\n",
      "epoch [27/3000], loss:4.9366\n",
      "epoch [28/3000], loss:4.7341\n",
      "epoch [29/3000], loss:4.8206\n",
      "epoch [30/3000], loss:8.2544\n",
      "epoch [31/3000], loss:3.9772\n",
      "epoch [32/3000], loss:6.2827\n",
      "epoch [33/3000], loss:5.9657\n",
      "epoch [34/3000], loss:12.0576\n",
      "epoch [35/3000], loss:3.5113\n",
      "epoch [36/3000], loss:28.8900\n",
      "epoch [37/3000], loss:7.4596\n",
      "epoch [38/3000], loss:6.4668\n",
      "epoch [39/3000], loss:5.8361\n",
      "epoch [40/3000], loss:6.2482\n",
      "epoch [41/3000], loss:20.5523\n",
      "epoch [42/3000], loss:10.0848\n",
      "epoch [43/3000], loss:5.4795\n",
      "epoch [44/3000], loss:7.2267\n",
      "epoch [45/3000], loss:4.0828\n",
      "epoch [46/3000], loss:5.8451\n",
      "epoch [47/3000], loss:5.6701\n",
      "epoch [48/3000], loss:8.3497\n",
      "epoch [49/3000], loss:11.8377\n",
      "epoch [50/3000], loss:5.0940\n",
      "epoch [51/3000], loss:5.4919\n",
      "epoch [52/3000], loss:6.6541\n",
      "epoch [53/3000], loss:6.8092\n",
      "epoch [54/3000], loss:6.9952\n",
      "epoch [55/3000], loss:4.3309\n",
      "epoch [56/3000], loss:5.5857\n",
      "epoch [57/3000], loss:5.2234\n",
      "epoch [58/3000], loss:9.1413\n",
      "epoch [59/3000], loss:7.0608\n",
      "epoch [60/3000], loss:5.0758\n",
      "epoch [61/3000], loss:5.0536\n",
      "epoch [62/3000], loss:3.5963\n",
      "epoch [63/3000], loss:4.4309\n",
      "epoch [64/3000], loss:4.2738\n",
      "epoch [65/3000], loss:3.4641\n",
      "epoch [66/3000], loss:3.4971\n",
      "epoch [67/3000], loss:4.7865\n",
      "epoch [68/3000], loss:4.4928\n",
      "epoch [69/3000], loss:3.5477\n",
      "epoch [70/3000], loss:4.6700\n",
      "epoch [71/3000], loss:4.8142\n",
      "epoch [72/3000], loss:3.7581\n",
      "epoch [73/3000], loss:5.0890\n",
      "epoch [74/3000], loss:6.5407\n",
      "epoch [75/3000], loss:5.4801\n",
      "epoch [76/3000], loss:4.6874\n",
      "epoch [77/3000], loss:5.8308\n",
      "epoch [78/3000], loss:5.0011\n",
      "epoch [79/3000], loss:4.5019\n",
      "epoch [80/3000], loss:4.7260\n",
      "epoch [81/3000], loss:6.8807\n",
      "epoch [82/3000], loss:6.9298\n",
      "epoch [83/3000], loss:4.0993\n",
      "epoch [84/3000], loss:3.2489\n",
      "epoch [85/3000], loss:3.8986\n",
      "epoch [86/3000], loss:4.3385\n",
      "epoch [87/3000], loss:4.2203\n",
      "epoch [88/3000], loss:3.5331\n",
      "epoch [89/3000], loss:3.7538\n",
      "epoch [90/3000], loss:8.6712\n",
      "epoch [91/3000], loss:5.8264\n",
      "epoch [92/3000], loss:3.5987\n",
      "epoch [93/3000], loss:4.7660\n",
      "epoch [94/3000], loss:6.4581\n",
      "epoch [95/3000], loss:5.5108\n",
      "epoch [96/3000], loss:6.7192\n",
      "epoch [97/3000], loss:4.4126\n",
      "epoch [98/3000], loss:4.3883\n",
      "epoch [99/3000], loss:6.8919\n",
      "epoch [100/3000], loss:5.1313\n",
      "epoch [101/3000], loss:4.6848\n",
      "epoch [102/3000], loss:3.7172\n",
      "epoch [103/3000], loss:11.0285\n",
      "epoch [104/3000], loss:5.6795\n",
      "epoch [105/3000], loss:5.3529\n",
      "epoch [106/3000], loss:4.6251\n",
      "epoch [107/3000], loss:3.5126\n",
      "epoch [108/3000], loss:3.2535\n",
      "epoch [109/3000], loss:5.6672\n",
      "epoch [110/3000], loss:6.9405\n",
      "epoch [111/3000], loss:3.6649\n",
      "epoch [112/3000], loss:5.8606\n",
      "epoch [113/3000], loss:3.8748\n",
      "epoch [114/3000], loss:4.3045\n",
      "epoch [115/3000], loss:3.6176\n",
      "epoch [116/3000], loss:5.1053\n",
      "epoch [117/3000], loss:6.0431\n",
      "epoch [118/3000], loss:9.6067\n",
      "epoch [119/3000], loss:3.9346\n",
      "epoch [120/3000], loss:6.0083\n",
      "epoch [121/3000], loss:4.1431\n",
      "epoch [122/3000], loss:3.6112\n",
      "epoch [123/3000], loss:8.3325\n",
      "epoch [124/3000], loss:4.6293\n",
      "epoch [125/3000], loss:5.7309\n",
      "epoch [126/3000], loss:7.9584\n",
      "epoch [127/3000], loss:4.1103\n",
      "epoch [128/3000], loss:5.3374\n",
      "epoch [129/3000], loss:4.8702\n",
      "epoch [130/3000], loss:4.2193\n",
      "epoch [131/3000], loss:4.6579\n",
      "epoch [132/3000], loss:3.8089\n",
      "epoch [133/3000], loss:4.0772\n",
      "epoch [134/3000], loss:3.2586\n",
      "epoch [135/3000], loss:4.6249\n",
      "epoch [136/3000], loss:5.3454\n",
      "epoch [137/3000], loss:4.3562\n",
      "epoch [138/3000], loss:3.4458\n",
      "epoch [139/3000], loss:4.0254\n",
      "epoch [140/3000], loss:5.9154\n",
      "epoch [141/3000], loss:3.9538\n",
      "epoch [142/3000], loss:4.8941\n",
      "epoch [143/3000], loss:11.8122\n",
      "epoch [144/3000], loss:3.5611\n",
      "epoch [145/3000], loss:3.1236\n",
      "epoch [146/3000], loss:4.7987\n",
      "epoch [147/3000], loss:3.7267\n",
      "epoch [148/3000], loss:6.8733\n",
      "epoch [149/3000], loss:4.1801\n",
      "epoch [150/3000], loss:5.3136\n",
      "epoch [151/3000], loss:3.7487\n",
      "epoch [152/3000], loss:4.6851\n",
      "epoch [153/3000], loss:4.4156\n",
      "epoch [154/3000], loss:5.0003\n",
      "epoch [155/3000], loss:5.8887\n",
      "epoch [156/3000], loss:3.4605\n",
      "epoch [157/3000], loss:5.6879\n",
      "epoch [158/3000], loss:3.5784\n",
      "epoch [159/3000], loss:13.2449\n",
      "epoch [160/3000], loss:5.1607\n",
      "epoch [161/3000], loss:2.8707\n",
      "epoch [162/3000], loss:5.1172\n",
      "epoch [163/3000], loss:4.1511\n",
      "epoch [164/3000], loss:4.2721\n",
      "epoch [165/3000], loss:3.4377\n",
      "epoch [166/3000], loss:4.3963\n",
      "epoch [167/3000], loss:5.3137\n",
      "epoch [168/3000], loss:5.8519\n",
      "epoch [169/3000], loss:5.5505\n",
      "epoch [170/3000], loss:8.0885\n",
      "epoch [171/3000], loss:4.4266\n",
      "epoch [172/3000], loss:11.4644\n",
      "epoch [173/3000], loss:5.2599\n",
      "epoch [174/3000], loss:6.1927\n",
      "epoch [175/3000], loss:6.1481\n",
      "epoch [176/3000], loss:13.6300\n",
      "epoch [177/3000], loss:3.5344\n",
      "epoch [178/3000], loss:4.7673\n",
      "epoch [179/3000], loss:10.4667\n",
      "epoch [180/3000], loss:5.5803\n",
      "epoch [181/3000], loss:4.4940\n",
      "epoch [182/3000], loss:4.9822\n",
      "epoch [183/3000], loss:4.4618\n",
      "epoch [184/3000], loss:9.4389\n",
      "epoch [185/3000], loss:5.8968\n",
      "epoch [186/3000], loss:5.6906\n",
      "epoch [187/3000], loss:4.9837\n",
      "epoch [188/3000], loss:3.8881\n",
      "epoch [189/3000], loss:2.8021\n",
      "epoch [190/3000], loss:3.9792\n",
      "epoch [191/3000], loss:3.6446\n",
      "epoch [192/3000], loss:6.7608\n",
      "epoch [193/3000], loss:6.0907\n",
      "epoch [194/3000], loss:3.2980\n",
      "epoch [195/3000], loss:8.1204\n",
      "epoch [196/3000], loss:4.3295\n",
      "epoch [197/3000], loss:4.3703\n",
      "epoch [198/3000], loss:3.9648\n",
      "epoch [199/3000], loss:3.1562\n",
      "epoch [200/3000], loss:3.6256\n",
      "epoch [201/3000], loss:28.2831\n",
      "epoch [202/3000], loss:4.3802\n",
      "epoch [203/3000], loss:6.3089\n",
      "epoch [204/3000], loss:3.5193\n",
      "epoch [205/3000], loss:4.9178\n",
      "epoch [206/3000], loss:3.5666\n",
      "epoch [207/3000], loss:5.8092\n",
      "epoch [208/3000], loss:5.4551\n",
      "epoch [209/3000], loss:3.7986\n",
      "epoch [210/3000], loss:19.7804\n",
      "epoch [211/3000], loss:3.1865\n",
      "epoch [212/3000], loss:5.3448\n",
      "epoch [213/3000], loss:3.2843\n",
      "epoch [214/3000], loss:3.5049\n",
      "epoch [215/3000], loss:3.5858\n",
      "epoch [216/3000], loss:3.1737\n",
      "epoch [217/3000], loss:3.8724\n",
      "epoch [218/3000], loss:4.6793\n",
      "epoch [219/3000], loss:4.2960\n",
      "epoch [220/3000], loss:4.8357\n",
      "epoch [221/3000], loss:4.4644\n",
      "epoch [222/3000], loss:4.3066\n",
      "epoch [223/3000], loss:4.0077\n",
      "epoch [224/3000], loss:9.4080\n",
      "epoch [225/3000], loss:4.3933\n",
      "epoch [226/3000], loss:4.4909\n",
      "epoch [227/3000], loss:3.3203\n",
      "epoch [228/3000], loss:3.6971\n",
      "epoch [229/3000], loss:4.1327\n",
      "epoch [230/3000], loss:4.0698\n",
      "epoch [231/3000], loss:3.3360\n",
      "epoch [232/3000], loss:3.2207\n",
      "epoch [233/3000], loss:3.8470\n",
      "epoch [234/3000], loss:3.1175\n",
      "epoch [235/3000], loss:3.7231\n",
      "epoch [236/3000], loss:3.0669\n",
      "epoch [237/3000], loss:3.5868\n",
      "epoch [238/3000], loss:3.2742\n",
      "epoch [239/3000], loss:3.2688\n",
      "epoch [240/3000], loss:4.4195\n",
      "epoch [241/3000], loss:3.1062\n",
      "epoch [242/3000], loss:4.2243\n",
      "epoch [243/3000], loss:3.9302\n",
      "epoch [244/3000], loss:3.9091\n",
      "epoch [245/3000], loss:7.0615\n",
      "epoch [246/3000], loss:4.5339\n",
      "epoch [247/3000], loss:3.2092\n",
      "epoch [248/3000], loss:7.5888\n",
      "epoch [249/3000], loss:3.5190\n",
      "epoch [250/3000], loss:3.1400\n",
      "epoch [251/3000], loss:4.5102\n",
      "epoch [252/3000], loss:4.0599\n",
      "epoch [253/3000], loss:3.5454\n",
      "epoch [254/3000], loss:2.6740\n",
      "epoch [255/3000], loss:3.6090\n",
      "epoch [256/3000], loss:4.1306\n",
      "epoch [257/3000], loss:5.2155\n",
      "epoch [258/3000], loss:3.3177\n",
      "epoch [259/3000], loss:3.0260\n",
      "epoch [260/3000], loss:4.0388\n",
      "epoch [261/3000], loss:3.5122\n",
      "epoch [262/3000], loss:3.2351\n",
      "epoch [263/3000], loss:3.7396\n",
      "epoch [264/3000], loss:3.7715\n",
      "epoch [265/3000], loss:3.3200\n",
      "epoch [266/3000], loss:5.0582\n",
      "epoch [267/3000], loss:3.8411\n",
      "epoch [268/3000], loss:7.8848\n",
      "epoch [269/3000], loss:3.5756\n",
      "epoch [270/3000], loss:3.2860\n",
      "epoch [271/3000], loss:4.9342\n",
      "epoch [272/3000], loss:4.5129\n",
      "epoch [273/3000], loss:3.0838\n",
      "epoch [274/3000], loss:4.4091\n",
      "epoch [275/3000], loss:3.3398\n",
      "epoch [276/3000], loss:3.6068\n",
      "epoch [277/3000], loss:9.4228\n",
      "epoch [278/3000], loss:3.8839\n",
      "epoch [279/3000], loss:3.4727\n",
      "epoch [280/3000], loss:2.9879\n",
      "epoch [281/3000], loss:2.4633\n",
      "epoch [282/3000], loss:3.6499\n",
      "epoch [283/3000], loss:3.3940\n",
      "epoch [284/3000], loss:4.0126\n",
      "epoch [285/3000], loss:3.3009\n",
      "epoch [286/3000], loss:6.4567\n",
      "epoch [287/3000], loss:3.3383\n",
      "epoch [288/3000], loss:6.0642\n",
      "epoch [289/3000], loss:3.7377\n",
      "epoch [290/3000], loss:2.5917\n",
      "epoch [291/3000], loss:3.4058\n",
      "epoch [292/3000], loss:2.9415\n",
      "epoch [293/3000], loss:3.3524\n",
      "epoch [294/3000], loss:6.3609\n",
      "epoch [295/3000], loss:3.6977\n",
      "epoch [296/3000], loss:3.8761\n",
      "epoch [297/3000], loss:3.6916\n",
      "epoch [298/3000], loss:4.0057\n",
      "epoch [299/3000], loss:3.4567\n",
      "epoch [300/3000], loss:2.8480\n",
      "epoch [301/3000], loss:2.6650\n",
      "epoch [302/3000], loss:3.6485\n",
      "epoch [303/3000], loss:3.1900\n",
      "epoch [304/3000], loss:4.7563\n",
      "epoch [305/3000], loss:2.8235\n",
      "epoch [306/3000], loss:3.6246\n",
      "epoch [307/3000], loss:3.5275\n",
      "epoch [308/3000], loss:4.5310\n",
      "epoch [309/3000], loss:2.6599\n",
      "epoch [310/3000], loss:2.5428\n",
      "epoch [311/3000], loss:3.7200\n",
      "epoch [312/3000], loss:3.9204\n",
      "epoch [313/3000], loss:3.5484\n",
      "epoch [314/3000], loss:5.7770\n",
      "epoch [315/3000], loss:4.1296\n",
      "epoch [316/3000], loss:4.5790\n",
      "epoch [317/3000], loss:3.9536\n",
      "epoch [318/3000], loss:4.6509\n",
      "epoch [319/3000], loss:3.1101\n",
      "epoch [320/3000], loss:2.6642\n",
      "epoch [321/3000], loss:4.2487\n",
      "epoch [322/3000], loss:2.9244\n",
      "epoch [323/3000], loss:3.4094\n",
      "epoch [324/3000], loss:5.6499\n",
      "epoch [325/3000], loss:4.0848\n",
      "epoch [326/3000], loss:3.1333\n",
      "epoch [327/3000], loss:3.0564\n",
      "epoch [328/3000], loss:3.2477\n",
      "epoch [329/3000], loss:3.2362\n",
      "epoch [330/3000], loss:2.8084\n",
      "epoch [331/3000], loss:3.4931\n",
      "epoch [332/3000], loss:2.8943\n",
      "epoch [333/3000], loss:2.8569\n",
      "epoch [334/3000], loss:4.2263\n",
      "epoch [335/3000], loss:3.1290\n",
      "epoch [336/3000], loss:4.3068\n",
      "epoch [337/3000], loss:5.6981\n",
      "epoch [338/3000], loss:2.8790\n",
      "epoch [339/3000], loss:4.2561\n",
      "epoch [340/3000], loss:3.9204\n",
      "epoch [341/3000], loss:3.3316\n",
      "epoch [342/3000], loss:3.7094\n",
      "epoch [343/3000], loss:2.3361\n",
      "epoch [344/3000], loss:3.1961\n",
      "epoch [345/3000], loss:2.8803\n",
      "epoch [346/3000], loss:2.7278\n",
      "epoch [347/3000], loss:4.1221\n",
      "epoch [348/3000], loss:3.0865\n",
      "epoch [349/3000], loss:3.0313\n",
      "epoch [350/3000], loss:4.1939\n",
      "epoch [351/3000], loss:3.6490\n",
      "epoch [352/3000], loss:3.8508\n",
      "epoch [353/3000], loss:3.4367\n",
      "epoch [354/3000], loss:3.7559\n",
      "epoch [355/3000], loss:3.2389\n",
      "epoch [356/3000], loss:2.6659\n",
      "epoch [357/3000], loss:3.2325\n",
      "epoch [358/3000], loss:3.3428\n",
      "epoch [359/3000], loss:3.1411\n",
      "epoch [360/3000], loss:8.2146\n",
      "epoch [361/3000], loss:3.6582\n",
      "epoch [362/3000], loss:2.9788\n",
      "epoch [363/3000], loss:3.5740\n",
      "epoch [364/3000], loss:3.4042\n",
      "epoch [365/3000], loss:3.7563\n",
      "epoch [366/3000], loss:2.5897\n",
      "epoch [367/3000], loss:4.3574\n",
      "epoch [368/3000], loss:2.9699\n",
      "epoch [369/3000], loss:3.3822\n",
      "epoch [370/3000], loss:2.8717\n",
      "epoch [371/3000], loss:3.3321\n",
      "epoch [372/3000], loss:4.0893\n",
      "epoch [373/3000], loss:4.7329\n",
      "epoch [374/3000], loss:4.9899\n",
      "epoch [375/3000], loss:2.7255\n",
      "epoch [376/3000], loss:5.3113\n",
      "epoch [377/3000], loss:3.5977\n",
      "epoch [378/3000], loss:3.6964\n",
      "epoch [379/3000], loss:4.1078\n",
      "epoch [380/3000], loss:2.3422\n",
      "epoch [381/3000], loss:3.1061\n",
      "epoch [382/3000], loss:4.1449\n",
      "epoch [383/3000], loss:5.3277\n",
      "epoch [384/3000], loss:3.3701\n",
      "epoch [385/3000], loss:4.9800\n",
      "epoch [386/3000], loss:3.6645\n",
      "epoch [387/3000], loss:2.8950\n",
      "epoch [388/3000], loss:4.0695\n",
      "epoch [389/3000], loss:3.8509\n",
      "epoch [390/3000], loss:3.8183\n",
      "epoch [391/3000], loss:3.5054\n",
      "epoch [392/3000], loss:3.5208\n",
      "epoch [393/3000], loss:3.5854\n",
      "epoch [394/3000], loss:3.9085\n",
      "epoch [395/3000], loss:3.4120\n",
      "epoch [396/3000], loss:2.7142\n",
      "epoch [397/3000], loss:3.3194\n",
      "epoch [398/3000], loss:5.5424\n",
      "epoch [399/3000], loss:4.0925\n",
      "epoch [400/3000], loss:5.0132\n",
      "epoch [401/3000], loss:2.8841\n",
      "epoch [402/3000], loss:5.6650\n",
      "epoch [403/3000], loss:3.3550\n",
      "epoch [404/3000], loss:3.4353\n",
      "epoch [405/3000], loss:3.6317\n",
      "epoch [406/3000], loss:2.7935\n",
      "epoch [407/3000], loss:2.5599\n",
      "epoch [408/3000], loss:5.6821\n",
      "epoch [409/3000], loss:2.7671\n",
      "epoch [410/3000], loss:3.5532\n",
      "epoch [411/3000], loss:3.0552\n",
      "epoch [412/3000], loss:3.3742\n",
      "epoch [413/3000], loss:4.7115\n",
      "epoch [414/3000], loss:3.5465\n",
      "epoch [415/3000], loss:3.4273\n",
      "epoch [416/3000], loss:3.4918\n",
      "epoch [417/3000], loss:4.4713\n",
      "epoch [418/3000], loss:3.5714\n",
      "epoch [419/3000], loss:3.2018\n",
      "epoch [420/3000], loss:4.1867\n",
      "epoch [421/3000], loss:3.2413\n",
      "epoch [422/3000], loss:4.3880\n",
      "epoch [423/3000], loss:3.3380\n",
      "epoch [424/3000], loss:2.4693\n",
      "epoch [425/3000], loss:2.8621\n",
      "epoch [426/3000], loss:4.2117\n",
      "epoch [427/3000], loss:3.8298\n",
      "epoch [428/3000], loss:3.2906\n",
      "epoch [429/3000], loss:3.2408\n",
      "epoch [430/3000], loss:4.8031\n",
      "epoch [431/3000], loss:2.7402\n",
      "epoch [432/3000], loss:3.0446\n",
      "epoch [433/3000], loss:4.5240\n",
      "epoch [434/3000], loss:2.5885\n",
      "epoch [435/3000], loss:5.4001\n",
      "epoch [436/3000], loss:4.9257\n",
      "epoch [437/3000], loss:5.1483\n",
      "epoch [438/3000], loss:3.5397\n",
      "epoch [439/3000], loss:4.2817\n",
      "epoch [440/3000], loss:6.5478\n",
      "epoch [441/3000], loss:5.3274\n",
      "epoch [442/3000], loss:6.0034\n",
      "epoch [443/3000], loss:3.3111\n",
      "epoch [444/3000], loss:3.8865\n",
      "epoch [445/3000], loss:3.2789\n",
      "epoch [446/3000], loss:3.5479\n",
      "epoch [447/3000], loss:2.9930\n",
      "epoch [448/3000], loss:3.4483\n",
      "epoch [449/3000], loss:3.7320\n",
      "epoch [450/3000], loss:3.1471\n",
      "epoch [451/3000], loss:6.2843\n",
      "epoch [452/3000], loss:4.5357\n",
      "epoch [453/3000], loss:4.5217\n",
      "epoch [454/3000], loss:3.4854\n",
      "epoch [455/3000], loss:3.8194\n",
      "epoch [456/3000], loss:3.0024\n",
      "epoch [457/3000], loss:2.9245\n",
      "epoch [458/3000], loss:2.8133\n",
      "epoch [459/3000], loss:3.4964\n",
      "epoch [460/3000], loss:2.9311\n",
      "epoch [461/3000], loss:3.8812\n",
      "epoch [462/3000], loss:3.7436\n",
      "epoch [463/3000], loss:3.1066\n",
      "epoch [464/3000], loss:2.6475\n",
      "epoch [465/3000], loss:4.7957\n",
      "epoch [466/3000], loss:2.7967\n",
      "epoch [467/3000], loss:3.9028\n",
      "epoch [468/3000], loss:2.8305\n",
      "epoch [469/3000], loss:3.7742\n",
      "epoch [470/3000], loss:3.7934\n",
      "epoch [471/3000], loss:3.4074\n",
      "epoch [472/3000], loss:5.2924\n",
      "epoch [473/3000], loss:2.9590\n",
      "epoch [474/3000], loss:6.3698\n",
      "epoch [475/3000], loss:3.3594\n",
      "epoch [476/3000], loss:2.9146\n",
      "epoch [477/3000], loss:3.1111\n",
      "epoch [478/3000], loss:3.4332\n",
      "epoch [479/3000], loss:3.9743\n",
      "epoch [480/3000], loss:2.9252\n",
      "epoch [481/3000], loss:3.2243\n",
      "epoch [482/3000], loss:2.6584\n",
      "epoch [483/3000], loss:3.1845\n",
      "epoch [484/3000], loss:3.1553\n",
      "epoch [485/3000], loss:5.3336\n",
      "epoch [486/3000], loss:2.9044\n",
      "epoch [487/3000], loss:4.9407\n",
      "epoch [488/3000], loss:4.9883\n",
      "epoch [489/3000], loss:2.8540\n",
      "epoch [490/3000], loss:3.3566\n",
      "epoch [491/3000], loss:3.2931\n",
      "epoch [492/3000], loss:3.7036\n",
      "epoch [493/3000], loss:5.6677\n",
      "epoch [494/3000], loss:3.1503\n",
      "epoch [495/3000], loss:3.3709\n"
     ]
    }
   ],
   "source": [
    "trainLoss = []\n",
    "validLoss = []\n",
    "num_epochs = 3000\n",
    "\n",
    "for epoch in range(num_epochs):\n",
    "    # Let's train the model\n",
    "    total_loss = 0.0\n",
    "    total_iter = 0\n",
    "    autoencoder.train()\n",
    "    \n",
    "    for dt in train_dl:\n",
    "        signal = Variable(dt['signal'])\n",
    "        labels = Variable(dt['label'])\n",
    "        \n",
    "        if cuda.is_available():\n",
    "            signal = signal.cuda()\n",
    "        else:\n",
    "            signal = signal.cpu()\n",
    "        \n",
    "        optimizer.zero_grad()\n",
    "        output, compressedVectors = autoencoder(signal.float())\n",
    "        loss = loss_func(output, signal.float())\n",
    "        loss.backward()\n",
    "        optimizer.step()\n",
    "        \n",
    "        total_iter += signal.shape[0]\n",
    "        total_loss += loss.data.item()\n",
    "        \n",
    "    #newDt = {'compSignal': compressedVectors.detach().cpu(), \n",
    "    #        'label': labels, \n",
    "    #        'signal': output}\n",
    "    #\n",
    "    #fname = compressedDtPath + 'dt_' + str(epoch) + '.npy'\n",
    "    #np.save(fname, newDt)\n",
    "    print('epoch [{}/{}], loss:{:.4f}'.format(epoch+1, num_epochs, total_loss / total_iter))"
   ]
  },
  {
   "cell_type": "code",
   "execution_count": 39,
   "metadata": {},
   "outputs": [],
   "source": [
    "torch.save(autoencoder.state_dict(), modelPath)\n",
    "# torch.save(autoencoder.state_dict(), \"./5.autoencoder.pth\")"
   ]
  },
  {
   "cell_type": "markdown",
   "metadata": {},
   "source": [
    "## Load model "
   ]
  },
  {
   "cell_type": "code",
   "execution_count": 103,
   "metadata": {},
   "outputs": [
    {
     "data": {
      "text/plain": [
       "Autoencoder(\n",
       "  (encoder): Sequential(\n",
       "    (0): Conv1d(127, 64, kernel_size=(9,), stride=(1,))\n",
       "    (1): ReLU(inplace)\n",
       "    (2): Conv1d(64, 34, kernel_size=(9,), stride=(1,))\n",
       "    (3): ReLU(inplace)\n",
       "    (4): Conv1d(34, 18, kernel_size=(9,), stride=(1,))\n",
       "    (5): ReLU(inplace)\n",
       "    (6): Conv1d(18, 8, kernel_size=(9,), stride=(1,))\n",
       "    (7): ReLU(inplace)\n",
       "  )\n",
       "  (decoder): Sequential(\n",
       "    (0): ConvTranspose1d(8, 18, kernel_size=(9,), stride=(1,))\n",
       "    (1): ReLU(inplace)\n",
       "    (2): ConvTranspose1d(18, 34, kernel_size=(9,), stride=(1,))\n",
       "    (3): ReLU(inplace)\n",
       "    (4): ConvTranspose1d(34, 64, kernel_size=(9,), stride=(1,))\n",
       "    (5): ReLU(inplace)\n",
       "    (6): ConvTranspose1d(64, 127, kernel_size=(9,), stride=(1,))\n",
       "  )\n",
       ")"
      ]
     },
     "execution_count": 103,
     "metadata": {},
     "output_type": "execute_result"
    }
   ],
   "source": [
    "model = Autoencoder()\n",
    "model.load_state_dict(torch.load(modelPath))\n",
    "model.eval()"
   ]
  },
  {
   "cell_type": "code",
   "execution_count": 81,
   "metadata": {},
   "outputs": [],
   "source": [
    "dt  = next(iter(train_dl))\n",
    "signal = dt['signal']\n",
    "label = dt['label']"
   ]
  },
  {
   "cell_type": "code",
   "execution_count": 82,
   "metadata": {},
   "outputs": [],
   "source": [
    "encoded = model.encoder(signal.float())\n",
    "reconstructed_dt = model.decoder(encoded.float())"
   ]
  },
  {
   "cell_type": "code",
   "execution_count": 83,
   "metadata": {},
   "outputs": [
    {
     "name": "stdout",
     "output_type": "stream",
     "text": [
      "torch.Size([32, 8, 224])\n",
      "torch.Size([32, 127, 256])\n",
      "(32, 8, 224)\n"
     ]
    },
    {
     "data": {
      "image/png": "[encoded data removed]",
      "text/plain": [
       "<Figure size 432x288 with 7 Axes>"
      ]
     },
     "metadata": {
      "needs_background": "light"
     },
     "output_type": "display_data"
    }
   ],
   "source": [
    "print(encoded.shape)\n",
    "print(reconstructed_dt.shape)\n",
    "tenc = encoded.data.numpy() # convert into numpy array\n",
    "treconst = reconstructed_dt.data.numpy()\n",
    "originalSignals = signal.data.numpy()\n",
    "print(tenc.shape)\n",
    "\n",
    "for i in range(1,8):\n",
    "    plt.subplot(3,3,i)\n",
    "    #plt.plot(tenc[1,i,:])\n",
    "    plt.hist(tenc[7,i,:], bins=25)"
   ]
  },
  {
   "cell_type": "code",
   "execution_count": 87,
   "metadata": {},
   "outputs": [
    {
     "data": {
      "image/png": "[encoded data removed]",
      "text/plain": [
       "<Figure size 432x288 with 7 Axes>"
      ]
     },
     "metadata": {
      "needs_background": "light"
     },
     "output_type": "display_data"
    }
   ],
   "source": [
    "#fig = plt.figure(figsize=(6, 6))\n",
    "for i in range(1, 8):\n",
    "    #axes.plt.subplot(treconst[1,1,:])\n",
    "    plt.subplot(3,3,i)\n",
    "    #plt.subplot(3, 3, i)\n",
    "    plt.plot(treconst[1, i, :])\n",
    "    #plt.plot(originalSignals[1,i,:])"
   ]
  },
  {
   "cell_type": "code",
   "execution_count": 78,
   "metadata": {},
   "outputs": [
    {
     "data": {
      "text/plain": [
       "<function Tensor.type>"
      ]
     },
     "execution_count": 78,
     "metadata": {},
     "output_type": "execute_result"
    }
   ],
   "source": [
    "originalSignals.type"
   ]
  },
  {
   "cell_type": "code",
   "execution_count": 44,
   "metadata": {},
   "outputs": [
    {
     "ename": "NameError",
     "evalue": "name 'compressedVectors' is not defined",
     "output_type": "error",
     "traceback": [
      "\u001b[0;31m---------------------------------------------------------------------------\u001b[0m",
      "\u001b[0;31mNameError\u001b[0m                                 Traceback (most recent call last)",
      "\u001b[0;32m<ipython-input-44-960b093c65d6>\u001b[0m in \u001b[0;36m<module>\u001b[0;34m\u001b[0m\n\u001b[0;32m----> 1\u001b[0;31m \u001b[0mcompressedSignal\u001b[0m \u001b[0;34m=\u001b[0m \u001b[0mcompressedVectors\u001b[0m\u001b[0;34m.\u001b[0m\u001b[0mdetach\u001b[0m\u001b[0;34m(\u001b[0m\u001b[0;34m)\u001b[0m\u001b[0;34m.\u001b[0m\u001b[0mcpu\u001b[0m\u001b[0;34m(\u001b[0m\u001b[0;34m)\u001b[0m\u001b[0;34m\u001b[0m\u001b[0;34m\u001b[0m\u001b[0m\n\u001b[0m\u001b[1;32m      2\u001b[0m \u001b[0mplt\u001b[0m\u001b[0;34m.\u001b[0m\u001b[0mplot\u001b[0m\u001b[0;34m(\u001b[0m\u001b[0mcompressedSignal\u001b[0m\u001b[0;34m.\u001b[0m\u001b[0mnumpy\u001b[0m\u001b[0;34m(\u001b[0m\u001b[0;34m)\u001b[0m\u001b[0;34m[\u001b[0m\u001b[0;36m10\u001b[0m\u001b[0;34m,\u001b[0m\u001b[0;36m5\u001b[0m\u001b[0;34m,\u001b[0m\u001b[0;36m1\u001b[0m\u001b[0;34m:\u001b[0m\u001b[0;36m1000\u001b[0m\u001b[0;34m]\u001b[0m\u001b[0;34m)\u001b[0m\u001b[0;34m\u001b[0m\u001b[0;34m\u001b[0m\u001b[0m\n",
      "\u001b[0;31mNameError\u001b[0m: name 'compressedVectors' is not defined"
     ]
    }
   ],
   "source": [
    "compressedSignal = compressedVectors.detach().cpu()\n",
    "plt.plot(compressedSignal.numpy()[10,5,1:1000])"
   ]
  },
  {
   "cell_type": "code",
   "execution_count": 73,
   "metadata": {},
   "outputs": [
    {
     "ename": "NameError",
     "evalue": "name 'signal' is not defined",
     "output_type": "error",
     "traceback": [
      "\u001b[0;31m---------------------------------------------------------------------------\u001b[0m",
      "\u001b[0;31mNameError\u001b[0m                                 Traceback (most recent call last)",
      "\u001b[0;32m<ipython-input-73-ba2f5c127e1f>\u001b[0m in \u001b[0;36m<module>\u001b[0;34m\u001b[0m\n\u001b[0;32m----> 1\u001b[0;31m \u001b[0minp\u001b[0m \u001b[0;34m=\u001b[0m \u001b[0msignal\u001b[0m\u001b[0;34m.\u001b[0m\u001b[0mdetach\u001b[0m\u001b[0;34m(\u001b[0m\u001b[0;34m)\u001b[0m\u001b[0;34m.\u001b[0m\u001b[0mcpu\u001b[0m\u001b[0;34m(\u001b[0m\u001b[0;34m)\u001b[0m\u001b[0;34m\u001b[0m\u001b[0;34m\u001b[0m\u001b[0m\n\u001b[0m\u001b[1;32m      2\u001b[0m \u001b[0mout\u001b[0m \u001b[0;34m=\u001b[0m \u001b[0moutput\u001b[0m\u001b[0;34m.\u001b[0m\u001b[0mdetach\u001b[0m\u001b[0;34m(\u001b[0m\u001b[0;34m)\u001b[0m\u001b[0;34m.\u001b[0m\u001b[0mcpu\u001b[0m\u001b[0;34m(\u001b[0m\u001b[0;34m)\u001b[0m\u001b[0;34m\u001b[0m\u001b[0;34m\u001b[0m\u001b[0m\n",
      "\u001b[0;31mNameError\u001b[0m: name 'signal' is not defined"
     ]
    }
   ],
   "source": [
    "inp = signal.detach().cpu()\n",
    "out = output.detach().cpu()"
   ]
  },
  {
   "cell_type": "code",
   "execution_count": 73,
   "metadata": {},
   "outputs": [
    {
     "data": {
      "image/png": "[encoded data removed]",
      "text/plain": [
       "<Figure size 432x288 with 1 Axes>"
      ]
     },
     "metadata": {
      "needs_background": "light"
     },
     "output_type": "display_data"
    }
   ],
   "source": [
    "def plot(signal):\n",
    "    plt.plot(signal.numpy()[2,100,23000:23100])\n",
    "plot(inp)\n",
    "plot(out)"
   ]
  },
  {
   "cell_type": "markdown",
   "metadata": {},
   "source": [
    "# Train the classifier"
   ]
  },
  {
   "cell_type": "code",
   "execution_count": 49,
   "metadata": {},
   "outputs": [],
   "source": [
    "# The model\n",
    "fcnet = FCNet(8, ws-32)\n",
    "device = torch.device('cuda:1')\n",
    "model = model.to(device=device)\n",
    "fcnet = fcnet.to(device=device)\n",
    "\n",
    "# Our loss function\n",
    "criterion = nn.CrossEntropyLoss()\n",
    "\n",
    "# Our optimizer\n",
    "optimizer = torch.optim.Adam(fcnet.parameters(), lr=lr)"
   ]
  },
  {
   "cell_type": "code",
   "execution_count": null,
   "metadata": {},
   "outputs": [],
   "source": [
    "num_epochs = 1000\n",
    "\n",
    "train_loss = []\n",
    "valid_loss = []\n",
    "train_accuracy = []\n",
    "valid_accuracy = []\n",
    "\n",
    "for epoch in range(num_epochs):\n",
    "    ############################\n",
    "    # Train\n",
    "    ############################    \n",
    "    iter_loss = 0.0\n",
    "    correct = 0\n",
    "    iterations = 0\n",
    "    episodes = 10\n",
    "    \n",
    "    fcnet.train()                   # Put the network into training mode\n",
    "    for idx in range(episodes):\n",
    "        for samples in train_dl:\n",
    "            # Convert torch tensor to Variable\n",
    "            items = Variable(samples['signal']).to(device=device)\n",
    "            classes = Variable(samples['label']).to(device=device)\n",
    "            print(items.shape)\n",
    "            optimizer.zero_grad()     # Clear off the gradients from any past operation\n",
    "            encoded_dt = model.encoder(items.float())\n",
    "            outputs = fcnet(encoded_dt) # Do the forward pass\n",
    "            loss = criterion(outputs, classes) # Calculate the loss\n",
    "            iter_loss += loss.data.item()\n",
    "            loss.backward()           # Calculate the gradients with help of back propagation\n",
    "            optimizer.step()          # Ask the optimizer to adjust the parameters based on the gradients\n",
    "            \n",
    "            # Record the correct predictions for training data \n",
    "            _, predicted = torch.max(outputs.data, 1)\n",
    "            correct += (predicted == classes.data).sum()\n",
    "            iterations += 1\n",
    "    \n",
    "    # Record the training loss\n",
    "    train_loss.append(iter_loss/iterations)\n",
    "    # Record the training accuracy\n",
    "    #train_accuracy.append((100 * correct / len(mnist_train_loader.dataset)))\n",
    "    print(\"Error: %.2f\" % (iter_loss/iterations)+ \"---- Accuracy: %.2f%%\" % (100/episodes * correct.item() / len(train_dl.dataset)))\n",
    "    #print(\"Accuracy: %.2f%%\" % (100 * correct / len(train_dl.dataset)))\n",
    "\n",
    "    # computing the validation loss \n",
    "    loss = 0.0\n",
    "    correct = 0\n",
    "    iterations = 0\n",
    "    \n",
    "    # putting the network into evaluation mode \n",
    "    fcnet.eval()\n",
    "    \n",
    "    for idx in range(10):\n",
    "        for validSample in valid_dl:\n",
    "            items = Variable(validSample['signal']).to(device=device)\n",
    "            classes = Variable(validSample['label']).to(device=device)\n",
    "            \n",
    "            outputs = fcnet(model.encoder(items.float()))\n",
    "            loss += criterion(outputs, classes).data.item()\n",
    "            #loss += criterion(outputs, classes).data[0]\n",
    "            \n",
    "            _, predicted = torch.max(outputs.data, 1)\n",
    "            correct += (predicted == classes.data).sum()\n",
    "            iterations += 1\n",
    "    \n",
    "    valid_loss.append(loss/iterations)\n",
    "    # Record the validation accuracy\n",
    "    valid_accuracy.append(correct.item() / len(valid_dl.dataset) * 100.0 / episodes)\n",
    "    print ('Val Loss: %.4f,---- Val Acc: %.4f' % (valid_loss[-1], valid_accuracy[-1]))\n"
   ]
  },
  {
   "cell_type": "code",
   "execution_count": null,
   "metadata": {},
   "outputs": [],
   "source": [
    "torch.cuda.current_device()"
   ]
  },
  {
   "cell_type": "code",
   "execution_count": 2,
   "metadata": {},
   "outputs": [],
   "source": [
    "torch.cuda.set_device(1)"
   ]
  },
  {
   "cell_type": "code",
   "execution_count": 17,
   "metadata": {},
   "outputs": [
    {
     "data": {
      "text/plain": [
       "[<matplotlib.lines.Line2D at 0x7fb9a06a5828>]"
      ]
     },
     "execution_count": 17,
     "metadata": {},
     "output_type": "execute_result"
    },
    {
     "data": {
      "image/png": "[encoded data removed]",
      "text/plain": [
       "<Figure size 432x288 with 1 Axes>"
      ]
     },
     "metadata": {
      "needs_background": "light"
     },
     "output_type": "display_data"
    }
   ],
   "source": [
    "plt.plot(valid_loss)"
   ]
  },
  {
   "cell_type": "code",
   "execution_count": 16,
   "metadata": {},
   "outputs": [
    {
     "data": {
      "text/plain": [
       "[<matplotlib.lines.Line2D at 0x7fb9a070bfd0>]"
      ]
     },
     "execution_count": 16,
     "metadata": {},
     "output_type": "execute_result"
    },
    {
     "data": {
      "image/png": "[encoded data removed]",
      "text/plain": [
       "<Figure size 432x288 with 1 Axes>"
      ]
     },
     "metadata": {
      "needs_background": "light"
     },
     "output_type": "display_data"
    }
   ],
   "source": [
    "plt.plot(train_loss)"
   ]
  },
  {
   "cell_type": "code",
   "execution_count": null,
   "metadata": {},
   "outputs": [],
   "source": []
  },
  {
   "cell_type": "code",
   "execution_count": null,
   "metadata": {},
   "outputs": [],
   "source": [
    "for samples in train_dl:\n",
    "    items = Variable(samples['signal']).to(device=device)\n",
    "    encoded_dt = model.encoder(items.float())q\n",
    "    "
   ]
  },
  {
   "cell_type": "code",
   "execution_count": null,
   "metadata": {},
   "outputs": [],
   "source": []
  }
 ],
 "metadata": {
  "kernelspec": {
   "display_name": "Python 3",
   "language": "python",
   "name": "python3"
  },
  "language_info": {
   "codemirror_mode": {
    "name": "ipython",
    "version": 3
   },
   "file_extension": ".py",
   "mimetype": "text/x-python",
   "name": "python",
   "nbconvert_exporter": "python",
   "pygments_lexer": "ipython3",
   "version": "3.6.8"
  }
 },
 "nbformat": 4,
 "nbformat_minor": 2
}
